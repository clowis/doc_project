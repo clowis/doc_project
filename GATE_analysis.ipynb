{
 "cells": [
  {
   "cell_type": "code",
   "execution_count": 1,
   "id": "7bdbf8d7-7857-49ec-8878-465f0009a7c6",
   "metadata": {},
   "outputs": [
    {
     "name": "stdout",
     "output_type": "stream",
     "text": [
      "Welcome to JupyROOT 6.26/10\n"
     ]
    }
   ],
   "source": [
    "import numpy as np\n",
    "import ROOT\n",
    "import sys\n",
    "import os\n",
    "import matplotlib.pyplot as plt\n",
    "import scipy.stats"
   ]
  },
  {
   "cell_type": "code",
   "execution_count": 7,
   "id": "45b61972",
   "metadata": {},
   "outputs": [],
   "source": [
    "#root_file = \"/home/clowis/cernbox/cern_data/cernbox_vm/Gate/bgo_0ps_point/test01.root\"\n",
    "root_file = \"/home/clowis/cernbox/cern_data/cernbox_vm/Gate/test2.root\"\n",
    "inFile = ROOT.TFile.Open(root_file, \"READ\")"
   ]
  },
  {
   "cell_type": "code",
   "execution_count": 8,
   "id": "dd733f04-7c03-44cc-94fb-bfc5251cb8a1",
   "metadata": {},
   "outputs": [
    {
     "name": "stdout",
     "output_type": "stream",
     "text": [
      "Total Events:  14024\n",
      "True Events for CTR groups:  7703\n"
     ]
    }
   ],
   "source": [
    "tree = inFile.Get(\"Coincidences\")\n",
    "\n",
    "nentries = tree.GetEntries()\n",
    "\n",
    "\n",
    "ctr_array=[]\n",
    "true_counts=0\n",
    "for entryNum in range(0, nentries): \n",
    "    tree.GetEntry(entryNum)\n",
    "    comptonPhantom1 = getattr(tree, \"comptonPhantom1\")\n",
    "    comptonPhantom2 = getattr(tree, \"comptonPhantom2\")\n",
    "    eventID1= getattr(tree, \"eventID1\")\n",
    "    eventID2= getattr(tree, \"eventID2\")\n",
    "\n",
    "    if eventID1 == eventID2 and comptonPhantom1 == 0 and comptonPhantom2 == 0: # only Trues used in Reconstruction\n",
    "        ctr = getattr(tree, \"CTR1\")\n",
    "        ctr_array.append(ctr*1000) # in ps\n",
    "        true_counts+=1\n",
    "\n",
    "ctr_array=np.array(ctr_array)\n",
    "print(\"Total Events: \", nentries)\n",
    "print(\"True Events for CTR groups: \", true_counts)"
   ]
  },
  {
   "cell_type": "code",
   "execution_count": 9,
   "id": "4d9a9c76",
   "metadata": {},
   "outputs": [
    {
     "data": {
      "text/plain": [
       "83.62691160875045"
      ]
     },
     "execution_count": 9,
     "metadata": {},
     "output_type": "execute_result"
    }
   ],
   "source": [
    "np.mean(ctr_array)"
   ]
  },
  {
   "cell_type": "code",
   "execution_count": null,
   "id": "00ff8782",
   "metadata": {},
   "outputs": [],
   "source": []
  },
  {
   "cell_type": "code",
   "execution_count": 5,
   "id": "80f5427b",
   "metadata": {},
   "outputs": [],
   "source": []
  },
  {
   "cell_type": "code",
   "execution_count": null,
   "id": "e1ef844a",
   "metadata": {},
   "outputs": [],
   "source": []
  }
 ],
 "metadata": {
  "kernelspec": {
   "display_name": "Python 3 (ipykernel)",
   "language": "python",
   "name": "python3"
  },
  "language_info": {
   "codemirror_mode": {
    "name": "ipython",
    "version": 3
   },
   "file_extension": ".py",
   "mimetype": "text/x-python",
   "name": "python",
   "nbconvert_exporter": "python",
   "pygments_lexer": "ipython3",
   "version": "3.9.14"
  }
 },
 "nbformat": 4,
 "nbformat_minor": 5
}
